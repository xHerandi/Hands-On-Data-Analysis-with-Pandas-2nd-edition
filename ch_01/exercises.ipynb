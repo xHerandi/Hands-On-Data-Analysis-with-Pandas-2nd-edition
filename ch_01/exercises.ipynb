{
 "cells": [
  {
   "cell_type": "markdown",
   "metadata": {},
   "source": [
    "# Coding exercises\n",
    "Exercises 1-3 are thought exercises that don't require coding. If you need a Python crash-course/refresher, work through the [`python_101.ipynb`](./python_101.ipynb) notebook in chapter 1.\n",
    "\n",
    "## Exercise 4: Generate the data by running this cell\n",
    "This will give you a list of numbers to work with in the remaining exercises."
   ]
  },
  {
   "cell_type": "code",
   "execution_count": 1,
   "metadata": {},
   "outputs": [],
   "source": [
    "import random\n",
    "\n",
    "random.seed(0)\n",
    "salaries = [round(random.random()*1000000, -3) for _ in range(100)]"
   ]
  },
  {
   "cell_type": "code",
   "execution_count": 2,
   "metadata": {},
   "outputs": [
    {
     "data": {
      "text/plain": [
       "[844000.0,\n",
       " 758000.0,\n",
       " 421000.0,\n",
       " 259000.0,\n",
       " 511000.0,\n",
       " 405000.0,\n",
       " 784000.0,\n",
       " 303000.0,\n",
       " 477000.0,\n",
       " 583000.0,\n",
       " 908000.0,\n",
       " 505000.0,\n",
       " 282000.0,\n",
       " 756000.0,\n",
       " 618000.0,\n",
       " 251000.0,\n",
       " 910000.0,\n",
       " 983000.0,\n",
       " 810000.0,\n",
       " 902000.0,\n",
       " 310000.0,\n",
       " 730000.0,\n",
       " 899000.0,\n",
       " 684000.0,\n",
       " 472000.0,\n",
       " 101000.0,\n",
       " 434000.0,\n",
       " 611000.0,\n",
       " 913000.0,\n",
       " 967000.0,\n",
       " 477000.0,\n",
       " 865000.0,\n",
       " 260000.0,\n",
       " 805000.0,\n",
       " 549000.0,\n",
       " 14000.0,\n",
       " 720000.0,\n",
       " 399000.0,\n",
       " 825000.0,\n",
       " 668000.0,\n",
       " 1000.0,\n",
       " 494000.0,\n",
       " 868000.0,\n",
       " 244000.0,\n",
       " 325000.0,\n",
       " 870000.0,\n",
       " 191000.0,\n",
       " 568000.0,\n",
       " 239000.0,\n",
       " 968000.0,\n",
       " 803000.0,\n",
       " 448000.0,\n",
       " 80000.0,\n",
       " 320000.0,\n",
       " 508000.0,\n",
       " 933000.0,\n",
       " 109000.0,\n",
       " 551000.0,\n",
       " 707000.0,\n",
       " 547000.0,\n",
       " 814000.0,\n",
       " 540000.0,\n",
       " 964000.0,\n",
       " 603000.0,\n",
       " 588000.0,\n",
       " 445000.0,\n",
       " 596000.0,\n",
       " 385000.0,\n",
       " 576000.0,\n",
       " 290000.0,\n",
       " 189000.0,\n",
       " 187000.0,\n",
       " 613000.0,\n",
       " 657000.0,\n",
       " 477000.0,\n",
       " 90000.0,\n",
       " 758000.0,\n",
       " 877000.0,\n",
       " 923000.0,\n",
       " 842000.0,\n",
       " 898000.0,\n",
       " 923000.0,\n",
       " 541000.0,\n",
       " 391000.0,\n",
       " 705000.0,\n",
       " 276000.0,\n",
       " 812000.0,\n",
       " 849000.0,\n",
       " 895000.0,\n",
       " 590000.0,\n",
       " 950000.0,\n",
       " 580000.0,\n",
       " 451000.0,\n",
       " 660000.0,\n",
       " 996000.0,\n",
       " 917000.0,\n",
       " 793000.0,\n",
       " 82000.0,\n",
       " 613000.0,\n",
       " 486000.0]"
      ]
     },
     "execution_count": 2,
     "metadata": {},
     "output_type": "execute_result"
    }
   ],
   "source": [
    "salaries"
   ]
  },
  {
   "cell_type": "markdown",
   "metadata": {},
   "source": [
    "## Exercise 5: Calculating statistics and verifying\n",
    "### mean"
   ]
  },
  {
   "cell_type": "code",
   "execution_count": 3,
   "metadata": {},
   "outputs": [],
   "source": [
    "import statistics"
   ]
  },
  {
   "cell_type": "code",
   "execution_count": 4,
   "metadata": {},
   "outputs": [
    {
     "data": {
      "text/plain": [
       "585690.0"
      ]
     },
     "execution_count": 4,
     "metadata": {},
     "output_type": "execute_result"
    }
   ],
   "source": [
    "salary_mean = sum(salaries) / len(salaries)\n",
    "salary_mean"
   ]
  },
  {
   "cell_type": "code",
   "execution_count": 5,
   "metadata": {},
   "outputs": [
    {
     "data": {
      "text/plain": [
       "585690.0"
      ]
     },
     "execution_count": 5,
     "metadata": {},
     "output_type": "execute_result"
    }
   ],
   "source": [
    "# using statistics module\n",
    "\n",
    "statistics.mean(salaries)"
   ]
  },
  {
   "cell_type": "markdown",
   "metadata": {},
   "source": [
    "### median"
   ]
  },
  {
   "cell_type": "code",
   "execution_count": 6,
   "metadata": {},
   "outputs": [
    {
     "name": "stdout",
     "output_type": "stream",
     "text": [
      "589000.0\n"
     ]
    }
   ],
   "source": [
    "def median(num):\n",
    "    num.sort() #sort the list in ASC order\n",
    "    mid = len(num) // 2  #get middle\n",
    "    mid2 = (len(num) - 1) // 2  #to handle second middle\n",
    "    return (num[mid] + num[mid2]) / 2\n",
    "\n",
    "print(median(salaries))\n"
   ]
  },
  {
   "cell_type": "code",
   "execution_count": 7,
   "metadata": {},
   "outputs": [
    {
     "data": {
      "text/plain": [
       "589000.0"
      ]
     },
     "execution_count": 7,
     "metadata": {},
     "output_type": "execute_result"
    }
   ],
   "source": [
    "# using statistics module\n",
    "\n",
    "statistics.median(salaries)"
   ]
  },
  {
   "cell_type": "markdown",
   "metadata": {},
   "source": [
    "### mode"
   ]
  },
  {
   "cell_type": "code",
   "execution_count": 8,
   "metadata": {},
   "outputs": [
    {
     "name": "stdout",
     "output_type": "stream",
     "text": [
      "Salary Mode with it's frequency count [(477000.0, 3)]\n"
     ]
    }
   ],
   "source": [
    "from collections import Counter\n",
    "salary_mode = Counter(salaries)\n",
    "print(\"Salary Mode with it's frequency count\", salary_mode.most_common(1)\n",
    ")"
   ]
  },
  {
   "cell_type": "code",
   "execution_count": 9,
   "metadata": {},
   "outputs": [
    {
     "data": {
      "text/plain": [
       "477000.0"
      ]
     },
     "execution_count": 9,
     "metadata": {},
     "output_type": "execute_result"
    }
   ],
   "source": [
    "# using statistics module\n",
    "\n",
    "statistics.mode(salaries)"
   ]
  },
  {
   "cell_type": "markdown",
   "metadata": {},
   "source": [
    "### sample variance\n",
    "Remember to use Bessel's correction."
   ]
  },
  {
   "cell_type": "code",
   "execution_count": 10,
   "metadata": {},
   "outputs": [
    {
     "data": {
      "text/plain": [
       "70664054444.44444"
      ]
     },
     "execution_count": 10,
     "metadata": {},
     "output_type": "execute_result"
    }
   ],
   "source": [
    "salary_variance = sum((x - salary_mean) ** 2 for x in salaries) / (len(salaries) - 1)\n",
    "salary_variance"
   ]
  },
  {
   "cell_type": "code",
   "execution_count": 11,
   "metadata": {},
   "outputs": [
    {
     "data": {
      "text/plain": [
       "70664054444.44444"
      ]
     },
     "execution_count": 11,
     "metadata": {},
     "output_type": "execute_result"
    }
   ],
   "source": [
    "# using statistics module\n",
    "\n",
    "statistics.variance(salaries)"
   ]
  },
  {
   "cell_type": "markdown",
   "metadata": {},
   "source": [
    "### sample standard deviation\n",
    "Remember to use Bessel's correction."
   ]
  },
  {
   "cell_type": "code",
   "execution_count": 12,
   "metadata": {},
   "outputs": [
    {
     "data": {
      "text/plain": [
       "265827.11382484"
      ]
     },
     "execution_count": 12,
     "metadata": {},
     "output_type": "execute_result"
    }
   ],
   "source": [
    "import math\n",
    "salary_stdev = math.sqrt(salary_variance)\n",
    "salary_stdev"
   ]
  },
  {
   "cell_type": "code",
   "execution_count": 13,
   "metadata": {},
   "outputs": [
    {
     "data": {
      "text/plain": [
       "265827.11382484"
      ]
     },
     "execution_count": 13,
     "metadata": {},
     "output_type": "execute_result"
    }
   ],
   "source": [
    "# using statistics module\n",
    "\n",
    "statistics.stdev(salaries)"
   ]
  },
  {
   "cell_type": "markdown",
   "metadata": {},
   "source": [
    "## Exercise 6: Calculating more statistics\n",
    "### range"
   ]
  },
  {
   "cell_type": "code",
   "execution_count": 14,
   "metadata": {},
   "outputs": [
    {
     "data": {
      "text/plain": [
       "995000.0"
      ]
     },
     "execution_count": 14,
     "metadata": {},
     "output_type": "execute_result"
    }
   ],
   "source": [
    "salary_max = max(salaries)\n",
    "salary_min = min(salaries)\n",
    "\n",
    "salary_range = salary_max - salary_min\n",
    "salary_range"
   ]
  },
  {
   "cell_type": "markdown",
   "metadata": {},
   "source": [
    "### coefficient of variation\n",
    "Make sure to use the sample standard deviation."
   ]
  },
  {
   "cell_type": "code",
   "execution_count": 15,
   "metadata": {},
   "outputs": [
    {
     "data": {
      "text/plain": [
       "45.38699889443903"
      ]
     },
     "execution_count": 15,
     "metadata": {},
     "output_type": "execute_result"
    }
   ],
   "source": [
    "CV = (salary_stdev / salary_mean) * 100\n",
    "CV"
   ]
  },
  {
   "cell_type": "markdown",
   "metadata": {},
   "source": [
    "### interquartile range"
   ]
  },
  {
   "cell_type": "code",
   "execution_count": 16,
   "metadata": {},
   "outputs": [],
   "source": [
    "q1 = statistics.quantiles(salaries)[0] #25th percentile\n",
    "q3 = statistics.quantiles(salaries)[2] #75th percentile"
   ]
  },
  {
   "cell_type": "code",
   "execution_count": 17,
   "metadata": {},
   "outputs": [
    {
     "data": {
      "text/plain": [
       "421750.0"
      ]
     },
     "execution_count": 17,
     "metadata": {},
     "output_type": "execute_result"
    }
   ],
   "source": [
    "IQR = q3 - q1\n",
    "IQR"
   ]
  },
  {
   "cell_type": "markdown",
   "metadata": {},
   "source": [
    "### quartile coefficent of dispersion"
   ]
  },
  {
   "cell_type": "code",
   "execution_count": 18,
   "metadata": {},
   "outputs": [
    {
     "data": {
      "text/plain": [
       "0.34491923941934166"
      ]
     },
     "execution_count": 18,
     "metadata": {},
     "output_type": "execute_result"
    }
   ],
   "source": [
    "quartile = (q3 - q1) / (q3 + q1)\n",
    "quartile"
   ]
  },
  {
   "cell_type": "markdown",
   "metadata": {},
   "source": [
    "## Exercise 7: Scaling data\n",
    "### min-max scaling"
   ]
  },
  {
   "cell_type": "code",
   "execution_count": 19,
   "metadata": {},
   "outputs": [
    {
     "data": {
      "text/plain": [
       "[0.0,\n",
       " 0.01306532663316583,\n",
       " 0.07939698492462312,\n",
       " 0.0814070351758794,\n",
       " 0.08944723618090453,\n",
       " 0.10050251256281408,\n",
       " 0.10854271356783919,\n",
       " 0.18693467336683417,\n",
       " 0.18894472361809045,\n",
       " 0.19095477386934673]"
      ]
     },
     "execution_count": 19,
     "metadata": {},
     "output_type": "execute_result"
    }
   ],
   "source": [
    "salaries_normalized = [ (data - salary_min) / salary_range for data in salaries]\n",
    "salaries_normalized[:10] #looking at first 10 records"
   ]
  },
  {
   "cell_type": "markdown",
   "metadata": {},
   "source": [
    "### standardizing"
   ]
  },
  {
   "cell_type": "code",
   "execution_count": 20,
   "metadata": {},
   "outputs": [
    {
     "data": {
      "text/plain": [
       "[-2.199512275430514,\n",
       " -2.150608309943509,\n",
       " -1.9023266390094862,\n",
       " -1.8948029520114855,\n",
       " -1.8647082040194827,\n",
       " -1.8233279255304788,\n",
       " -1.7932331775384762,\n",
       " -1.4998093846164489,\n",
       " -1.4922856976184482,\n",
       " -1.4847620106204475]"
      ]
     },
     "execution_count": 20,
     "metadata": {},
     "output_type": "execute_result"
    }
   ],
   "source": [
    "zscore = [ (data - salary_mean) / salary_stdev for data in salaries]\n",
    "zscore[:10] #looking at first 10 records"
   ]
  },
  {
   "cell_type": "markdown",
   "metadata": {},
   "source": [
    "## Exercise 8: Calculating covariance and correlation\n",
    "### covariance"
   ]
  },
  {
   "cell_type": "code",
   "execution_count": 22,
   "metadata": {},
   "outputs": [
    {
     "data": {
      "text/plain": [
       "0.2671629284671759"
      ]
     },
     "execution_count": 22,
     "metadata": {},
     "output_type": "execute_result"
    }
   ],
   "source": [
    "statistics.covariance(salaries_normalized, zscore)"
   ]
  },
  {
   "cell_type": "markdown",
   "metadata": {},
   "source": [
    "### Pearson correlation coefficient ($\\rho$)"
   ]
  },
  {
   "cell_type": "code",
   "execution_count": 23,
   "metadata": {},
   "outputs": [
    {
     "data": {
      "text/plain": [
       "1.0"
      ]
     },
     "execution_count": 23,
     "metadata": {},
     "output_type": "execute_result"
    }
   ],
   "source": [
    "statistics.correlation(salaries_normalized, zscore)"
   ]
  },
  {
   "cell_type": "markdown",
   "metadata": {},
   "source": [
    "<hr>\n",
    "<div style=\"overflow: hidden; margin-bottom: 10px;\">\n",
    "    <div style=\"float: left;\">\n",
    "        <a href=\"./python_101.ipynb\">\n",
    "            <button>Python 101</button>\n",
    "        </a>\n",
    "    </div>\n",
    "    <div style=\"float: right;\">\n",
    "        <a href=\"../../solutions/ch_01/solutions.ipynb\">\n",
    "            <button>Solutions</button>\n",
    "        </a>\n",
    "        <a href=\"../ch_02/1-pandas_data_structures.ipynb\">\n",
    "            <button>Chapter 2 &#8594;</button>\n",
    "        </a>\n",
    "    </div>\n",
    "</div>\n",
    "<hr>"
   ]
  }
 ],
 "metadata": {
  "kernelspec": {
   "display_name": "book_venv",
   "language": "python",
   "name": "python3"
  },
  "language_info": {
   "codemirror_mode": {
    "name": "ipython",
    "version": 3
   },
   "file_extension": ".py",
   "mimetype": "text/x-python",
   "name": "python",
   "nbconvert_exporter": "python",
   "pygments_lexer": "ipython3",
   "version": "3.10.9"
  },
  "vscode": {
   "interpreter": {
    "hash": "66a1f526bb430f3cbae87223b2492d4c0405e9b4bb81b5a70f409b99e348de0f"
   }
  }
 },
 "nbformat": 4,
 "nbformat_minor": 4
}
